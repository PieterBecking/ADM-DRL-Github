{
 "cells": [
  {
   "cell_type": "markdown",
   "metadata": {},
   "source": [
    "# Data Pre-Processing"
   ]
  },
  {
   "cell_type": "markdown",
   "metadata": {},
   "source": [
    "### Import and present data"
   ]
  },
  {
   "cell_type": "code",
   "execution_count": 1,
   "metadata": {},
   "outputs": [
    {
     "name": "stdout",
     "output_type": "stream",
     "text": [
      "aircraft.csv\n",
      "['B767#1 B767 Boeing 10/20/160 12250 3000.0 75 50 CDG CDG-10/01/08-06:00-10/01/08-10:00-20', 'B767#3 B767 Boeing 10/20/160 12250 3000.0 75 50 BKK NULL', 'A320#1 A320 Airbus 0/20/160 5700 2000.0 40 40 NCE NCE-10/01/08-17:00-11/01/08-12:00-10', 'A320#2 A320 Airbus 0/20/160 5700 2000.0 40 40 NCE NULL', 'B777#1 B777 Boeing 20/45/310 14000 4000.0 90 60 CDG NULL', 'B777#4 B777 Boeing 20/45/310 14000 4000.0 90 60 LHR CDG-10/01/08-12:00-10/01/08-22:00-80']\n",
      "\n",
      "alt_flights.csv\n",
      "['3 10/01/08 60']\n",
      "\n",
      "alt_airports.csv\n",
      "No data\n",
      "\n",
      "alt_aircraft.csv\n",
      "No data\n",
      "\n",
      "config.csv\n",
      "['10/01/08 06:00 10/01/08 23:30', 'F D 0.75 F C 1.08 F I 1.5 B D 0.5 B C 0.75 B I 1 E D 0.33 E C 0.5 E I 0.66', 'F D 1000.0 F C 2000.0 F I 3000.0 B D 650.0 B C 1300.0 B I 2000.0 E D 350.0 E C 650.0 E I 1000.0', 'F D 3000.0 F C 6000.0 F I 9000.0 B D 2000.0 B C 4000.0 B I 6000.0 E D 1000.0 E C 2000.0 E I 3000.0', 'F B D 150.0 F B C 300.0 F B I 450.0 F E D 250.0 F E C 500.0 F E I 750.0 B E D 100.0 B E C 200.0 B E I 300.0', '20000.0 5000.0 1000.0', '1.0 1.0 1.0']\n",
      "\n",
      "rotations.csv\n",
      "['1 10/01/08 B767#3', '7 10/01/08 B767#1', '2 10/01/08 A320#1', '3 10/01/08 A320#1', '8 10/01/08 A320#1', '9 10/01/08 A320#1', '4 10/01/08 B777#1', '5 10/01/08 B777#1', '11 10/01/08 B777#1', '12 10/01/08 B777#4', '6 10/01/08 A320#2', '10 10/01/08 A320#2']\n",
      "\n",
      "airports.csv\n",
      "['BKK 1 1 00:00 03:00 2 2 03:00 05:00 4 4 05:00 00:00', 'CDG 1 2 00:00 05:00 4 4 05:00 21:00 2 2 21:00 00:00', 'JFK 1 2 00:00 04:00 3 3 04:00 00:00', 'LHR 3 4 00:00 05:00 6 6 05:00 23:00 3 4 23:00 00:00', 'NCE 0 0 00:00 04:00 1 2 04:00 06:00 4 4 06:00 22:00 2 2 22:00 00:00', 'SYD 0 0 00:00 05:00 3 3 05:00 22:00 1 2 22:00 00:00']\n",
      "\n",
      "dist.csv\n",
      "['BKK CDG 739 I', 'BKK JFK 1077 I', 'BKK LHR 749 I', 'BKK NCE 742 I', 'BKK SYD 594 I', 'BKK ORY 741 I', 'CDG BKK 739 I', 'CDG JFK 468 I', 'CDG LHR 55 C', 'CDG NCE 77 D', 'CDG SYD 1302 I', 'CDG ORY 34 P', 'JFK BKK 1077 I', 'JFK CDG 468 I', 'JFK LHR 446 I', 'JFK NCE 495 I', 'JFK SYD 1232 I', 'JFK ORY 468 I', 'LHR BKK 749 I', 'LHR CDG 55 C', 'LHR JFK 446 I', 'LHR NCE 100 C', 'LHR SYD 1308 I', 'LHR ORY 57 C', 'NCE BKK 742 I', 'NCE CDG 77 D', 'NCE JFK 495 I', 'NCE LHR 100 C', 'NCE SYD 1305 I', 'NCE ORY 74 D', 'SYD BKK 594 I', 'SYD CDG 1302 I', 'SYD JFK 1232 I', 'SYD LHR 1308 I', 'SYD NCE 1305 I', 'SYD ORY 1304 I', 'ORY BKK 741 I', 'ORY CDG 34 P', 'ORY JFK 468 I', 'ORY LHR 57 C', 'ORY NCE 74 D', 'ORY SYD 1304 I']\n",
      "\n",
      "itineraries.csv\n",
      "['1 A 2800.0 5 1 10/01/08 F', '2 A 2200.5 7 1 10/01/08 B', '3 A 1000.2 75 1 10/01/08 E', '4 R 2200.5 9 1 10/01/08 B', '5 R 1000.2 60 1 10/01/08 E', '6 A 400.25 30 2 10/01/08 E', '7 R 400.25 20 2 10/01/08 E', '8 A 350.0 30 3 10/01/08 E', '9 R 1200.17 1 3 10/01/08 B', '10 R 350.4 30 3 10/01/08 E', '11 A 1700.0 3 2 10/01/08 B 3 10/01/08 B', '12 A 900.18 20 2 10/01/08 E 3 10/01/08 E', '13 R 1700.0 1 2 10/01/08 B 3 10/01/08 B', '14 R 900.18 10 2 10/01/08 E 3 10/01/08 E', '15 A 1100.15 13 4 10/01/08 B', '16 A 600.7 60 4 10/01/08 E', '17 R 1100.15 9 4 10/01/08 B', '18 R 600.7 40 4 10/01/08 E', '19 A 2200.75 5 5 10/01/08 B', '20 A 2900.1 1 5 10/01/08 F', '21 R 2900.1 1 5 10/01/08 F', '22 A 950.0 45 5 10/01/08 E', '23 R 950.0 55 5 10/01/08 E', '24 A 3400.61 4 4 10/01/08 F 5 10/01/08 F', '25 A 2800.8 8 4 10/01/08 B 5 10/01/08 B', '26 A 1100.0 80 4 10/01/08 E 5 10/01/08 E', '27 R 3400.61 4 4 10/01/08 F 5 10/01/08 F', '28 R 2800.8 4 4 10/01/08 B 5 10/01/08 B', '29 R 1100.0 45 4 10/01/08 E 5 10/01/08 E', '30 A 1600.09 3 6 10/01/08 B', '31 A 450.64 32 6 10/01/08 E', '32 R 1600.09 1 6 10/01/08 B', '33 R 450.64 25 6 10/01/08 E', '34 A 2500.25 0 7 10/01/08 F', '35 A 1800.0 3 7 10/01/08 B', '36 A 900.3 55 7 10/01/08 E', '37 R 2500.25 2 7 10/01/08 F', '38 R 1800.0 2 7 10/01/08 B', '39 R 900.3 40 7 10/01/08 E', '40 A 1100.05 4 8 10/01/08 B', '41 A 400.8 55 8 10/01/08 E', '42 R 1100.05 4 8 10/01/08 B', '43 R 400.8 30 8 10/01/08 E', '44 A 1200.0 3 9 10/01/08 B', '45 A 350.42 40 9 10/01/08 E', '46 R 1200.0 2 9 10/01/08 B', '47 R 350.42 20 9 10/01/08 E', '48 A 1700.76 6 8 10/01/08 B 9 10/01/08 B', '49 A 900.0 25 8 10/01/08 E 9 10/01/08 E', '50 R 900.0 15 8 10/01/08 E 9 10/01/08 E', '51 A 1600.98 12 10 10/01/08 B', '52 A 500.25 78 10 10/01/08 E', '53 R 500.25 65 10 10/01/08 E', '54 A 1400.34 7 11 10/01/08 F', '55 A 1100.87 13 11 10/01/08 B', '56 A 600.0 85 11 10/01/08 E', '57 R 1100.13 19 11 10/01/08 B', '58 R 600.0 148 11 10/01/08 E', '59 A 2000.71 18 12 10/01/08 B', '60 A 950.15 45 12 10/01/08 E', '61 R 950.15 95 12 10/01/08 E', '62 A 2200.03 4 12 10/01/08 F', '63 R 1400.69 8 11 10/01/08 F', '64 R 2200.03 8 12 10/01/08 F', '65 R 2800.75 4 12 10/01/08 B', '66 A 2500.5 2 4 10/01/08 F', '67 R 2500.5 2 4 10/01/08 F', '68 A 1600.38 7 6 10/01/08 B 5 10/01/08 F', '69 A 450.0 50 6 10/01/08 E 5 10/01/08 E', '70 R 1600.38 5 6 10/01/08 B 5 10/01/08 B', '71 R 450.0 25 6 10/01/08 E 5 10/01/08 E', '72 A 2350.91 4 2 10/01/08 B 7 10/01/08 F', '73 A 900.14 20 2 10/01/08 E 7 10/01/08 E', '74 A 1700.72 1 2 10/01/08 B 7 10/01/08 B', '75 R 900.14 3 2 10/01/08 B 7 10/01/08 F', '76 R 900.14 10 2 10/01/08 B 7 10/01/08 B', '77 R 900.14 10 2 10/01/08 E 7 10/01/08 E', '78 A 1700.3 5 2 10/01/08 B 9 10/01/08 B', '79 A 900.75 32 2 10/01/08 E 9 10/01/08 E', '80 A 1200.0 7 12 10/01/08 B 3 10/01/08 B', '81 A 350.41 60 12 10/01/08 E 3 10/01/08 E', '82 A 3500.0 2 3 10/01/08 B 5 10/01/08 F', '83 A 2800.6 3 3 10/01/08 B 5 10/01/08 B', '84 R 1500.24 10 3 10/01/08 E 5 10/01/08 E']\n",
      "\n",
      "flights.csv\n",
      "['1 BKK CDG 18:00 06:15+1 0', '2 NCE CDG 08:00 09:30 0', '3 CDG LHR 10:20 11:20 0', '4 CDG LHR 08:30 09:30 0', '5 LHR JFK 12:00 19:30 0', '6 NCE LHR 09:30 11:15 0', '7 CDG BKK 11:30 21:45 0', '8 LHR CDG 12:30 13:30 0', '9 CDG NCE 14:35 16:05 0', '10 LHR NCE 13:10 14:55 0', '11 JFK LHR 22:30 06:00+1 0', '12 LHR CDG 07:15 08:15 0']\n",
      "\n",
      "position.csv\n",
      "['CDG B777 20/45/310 1 B767 10/20/160 1 #', 'LHR B777 20/45/310 1 #', 'NCE A320 0/20/160 2 #', 'BKK B767 10/20/160 1 #']\n",
      "\n"
     ]
    }
   ],
   "source": [
    "import pandas as pd\n",
    "import os\n",
    "from io import StringIO\n",
    "import re\n",
    "\n",
    "# Function to read a CSV file, skip comment lines starting with '%', and stopping at lines starting with '#'\n",
    "def read_csv_with_comments(file_path):\n",
    "    with open(file_path, 'r') as file:\n",
    "        lines = file.readlines()\n",
    "\n",
    "    # Filter out comment lines and stop at the ending line\n",
    "    data_lines = []\n",
    "    for line in lines:\n",
    "        if line.startswith('#'):\n",
    "            break\n",
    "        if not line.startswith('%'):\n",
    "            data_lines.append(line.strip())\n",
    "\n",
    "    # Check if data_lines is empty\n",
    "    if len(data_lines) == 0:\n",
    "        return None  # Return None if the file has no data\n",
    "\n",
    "    return data_lines\n",
    "\n",
    "\n",
    "# Select the data folder and import all the data files\n",
    "data_folder = 'Data/ROADEF 2009/PoC-scenario'\n",
    "\n",
    "aircraft_file = data_folder + '/aircraft.csv'\n",
    "airports_file = data_folder + '/airports.csv'\n",
    "alt_aircraft_file = data_folder + '/alt_aircraft.csv'\n",
    "alt_airports_file = data_folder + '/alt_airports.csv'\n",
    "alt_flights_file = data_folder + '/alt_flights.csv'\n",
    "config_file = data_folder + '/config.csv'\n",
    "dist_file = data_folder + '/dist.csv'\n",
    "flights_file = data_folder + '/flights.csv'\n",
    "itineraries_file = data_folder + '/itineraries.csv'\n",
    "positions_file = data_folder + '/position.csv'\n",
    "rotations_file = data_folder + '/rotations.csv'\n",
    "\n",
    "\n",
    "# Printing data in this instance\n",
    "\n",
    "for file in os.listdir(data_folder):\n",
    "    if file.endswith('.csv'):\n",
    "        file_path = os.path.join(data_folder, file)\n",
    "        data_lines = read_csv_with_comments(file_path)\n",
    "        if data_lines is not None:\n",
    "            print(file)\n",
    "            print(data_lines)\n",
    "            print()\n",
    "        else:\n",
    "            # print the file name if it has no data\n",
    "            print(file)\n",
    "            print('No data')\n",
    "            print()\n"
   ]
  },
  {
   "cell_type": "markdown",
   "metadata": {},
   "source": [
    "## Each file has its own format"
   ]
  },
  {
   "cell_type": "markdown",
   "metadata": {},
   "source": [
    "### Config file"
   ]
  },
  {
   "cell_type": "code",
   "execution_count": 2,
   "metadata": {},
   "outputs": [
    {
     "name": "stdout",
     "output_type": "stream",
     "text": [
      "{'RecoveryPeriod': {'StartDate': '10/01/08', 'StartTime': '06:00', 'EndDate': '10/01/08', 'EndTime': '23:30'}, 'DelayCosts': [{'Cabin': 'F', 'Type': 'D', 'Cost': 0.75}, {'Cabin': 'F', 'Type': 'C', 'Cost': 1.08}, {'Cabin': 'F', 'Type': 'I', 'Cost': 1.5}, {'Cabin': 'B', 'Type': 'D', 'Cost': 0.5}, {'Cabin': 'B', 'Type': 'C', 'Cost': 0.75}, {'Cabin': 'B', 'Type': 'I', 'Cost': 1.0}, {'Cabin': 'E', 'Type': 'D', 'Cost': 0.33}, {'Cabin': 'E', 'Type': 'C', 'Cost': 0.5}, {'Cabin': 'E', 'Type': 'I', 'Cost': 0.66}], 'CancellationCostsOutbound': [{'Cabin': 'F', 'Type': 'D', 'Cost': 1000.0}, {'Cabin': 'F', 'Type': 'C', 'Cost': 2000.0}, {'Cabin': 'F', 'Type': 'I', 'Cost': 3000.0}, {'Cabin': 'B', 'Type': 'D', 'Cost': 650.0}, {'Cabin': 'B', 'Type': 'C', 'Cost': 1300.0}, {'Cabin': 'B', 'Type': 'I', 'Cost': 2000.0}, {'Cabin': 'E', 'Type': 'D', 'Cost': 350.0}, {'Cabin': 'E', 'Type': 'C', 'Cost': 650.0}, {'Cabin': 'E', 'Type': 'I', 'Cost': 1000.0}], 'CancellationCostsInbound': [{'Cabin': 'F', 'Type': 'D', 'Cost': 3000.0}, {'Cabin': 'F', 'Type': 'C', 'Cost': 6000.0}, {'Cabin': 'F', 'Type': 'I', 'Cost': 9000.0}, {'Cabin': 'B', 'Type': 'D', 'Cost': 2000.0}, {'Cabin': 'B', 'Type': 'C', 'Cost': 4000.0}, {'Cabin': 'B', 'Type': 'I', 'Cost': 6000.0}, {'Cabin': 'E', 'Type': 'D', 'Cost': 1000.0}, {'Cabin': 'E', 'Type': 'C', 'Cost': 2000.0}, {'Cabin': 'E', 'Type': 'I', 'Cost': 3000.0}], 'DowngradingCosts': [{'FromCabin': 'F', 'ToCabin': 'B', 'Type': 'D', 'Cost': 150.0}, {'FromCabin': 'F', 'ToCabin': 'B', 'Type': 'C', 'Cost': 300.0}, {'FromCabin': 'F', 'ToCabin': 'B', 'Type': 'I', 'Cost': 450.0}, {'FromCabin': 'F', 'ToCabin': 'E', 'Type': 'D', 'Cost': 250.0}, {'FromCabin': 'F', 'ToCabin': 'E', 'Type': 'C', 'Cost': 500.0}, {'FromCabin': 'F', 'ToCabin': 'E', 'Type': 'I', 'Cost': 750.0}, {'FromCabin': 'B', 'ToCabin': 'E', 'Type': 'D', 'Cost': 100.0}, {'FromCabin': 'B', 'ToCabin': 'E', 'Type': 'C', 'Cost': 200.0}, {'FromCabin': 'B', 'ToCabin': 'E', 'Type': 'I', 'Cost': 300.0}], 'PenaltyCosts': [20000.0, 5000.0, 1000.0], 'Weights': [1.0, 1.0, 1.0]}\n"
     ]
    }
   ],
   "source": [
    "# Function to convert config file lines to a dictionary with corresponding values\n",
    "def parse_config(data_lines):\n",
    "    config_dict = {}\n",
    "    config_dict['RecoveryPeriod'] = {\n",
    "        'StartDate': data_lines[0].split()[0],\n",
    "        'StartTime': data_lines[0].split()[1],\n",
    "        'EndDate': data_lines[0].split()[2],\n",
    "        'EndTime': data_lines[0].split()[3]\n",
    "    }\n",
    "\n",
    "    def parse_costs(line):\n",
    "        parts = re.split(r'\\s+', line)\n",
    "        costs = []\n",
    "        for i in range(0, len(parts), 3):\n",
    "            costs.append({'Cabin': parts[i], 'Type': parts[i+1], 'Cost': float(parts[i+2])})\n",
    "        return costs\n",
    "\n",
    "    config_dict['DelayCosts'] = parse_costs(data_lines[1])\n",
    "    config_dict['CancellationCostsOutbound'] = parse_costs(data_lines[2])\n",
    "    config_dict['CancellationCostsInbound'] = parse_costs(data_lines[3])\n",
    "\n",
    "    def parse_downgrading_costs(line):\n",
    "        parts = re.split(r'\\s+', line)\n",
    "        costs = []\n",
    "        for i in range(0, len(parts), 4):\n",
    "            costs.append({'FromCabin': parts[i], 'ToCabin': parts[i+1], 'Type': parts[i+2], 'Cost': float(parts[i+3])})\n",
    "        return costs\n",
    "\n",
    "    config_dict['DowngradingCosts'] = parse_downgrading_costs(data_lines[4])\n",
    "    config_dict['PenaltyCosts'] = [float(x) for x in re.split(r'\\s+', data_lines[5])]\n",
    "    config_dict['Weights'] = [float(x) for x in re.split(r'\\s+', data_lines[6])]\n",
    "    return config_dict\n",
    "\n",
    "# Read the config file and parse the data\n",
    "config_lines = read_csv_with_comments(config_file)\n",
    "if config_lines:\n",
    "    config_dict = parse_config(config_lines)\n",
    "    print(config_dict)\n"
   ]
  },
  {
   "cell_type": "markdown",
   "metadata": {},
   "source": [
    "### Airports file"
   ]
  },
  {
   "cell_type": "code",
   "execution_count": 3,
   "metadata": {},
   "outputs": [
    {
     "name": "stdout",
     "output_type": "stream",
     "text": [
      "{'BKK': [{'Dep/h': 1, 'Arr/h': 1, 'StartTime': '00:00', 'EndTime': '03:00'}, {'Dep/h': 2, 'Arr/h': 2, 'StartTime': '03:00', 'EndTime': '05:00'}, {'Dep/h': 4, 'Arr/h': 4, 'StartTime': '05:00', 'EndTime': '00:00'}], 'CDG': [{'Dep/h': 1, 'Arr/h': 2, 'StartTime': '00:00', 'EndTime': '05:00'}, {'Dep/h': 4, 'Arr/h': 4, 'StartTime': '05:00', 'EndTime': '21:00'}, {'Dep/h': 2, 'Arr/h': 2, 'StartTime': '21:00', 'EndTime': '00:00'}], 'JFK': [{'Dep/h': 1, 'Arr/h': 2, 'StartTime': '00:00', 'EndTime': '04:00'}, {'Dep/h': 3, 'Arr/h': 3, 'StartTime': '04:00', 'EndTime': '00:00'}], 'LHR': [{'Dep/h': 3, 'Arr/h': 4, 'StartTime': '00:00', 'EndTime': '05:00'}, {'Dep/h': 6, 'Arr/h': 6, 'StartTime': '05:00', 'EndTime': '23:00'}, {'Dep/h': 3, 'Arr/h': 4, 'StartTime': '23:00', 'EndTime': '00:00'}], 'NCE': [{'Dep/h': 0, 'Arr/h': 0, 'StartTime': '00:00', 'EndTime': '04:00'}, {'Dep/h': 1, 'Arr/h': 2, 'StartTime': '04:00', 'EndTime': '06:00'}, {'Dep/h': 4, 'Arr/h': 4, 'StartTime': '06:00', 'EndTime': '22:00'}, {'Dep/h': 2, 'Arr/h': 2, 'StartTime': '22:00', 'EndTime': '00:00'}], 'SYD': [{'Dep/h': 0, 'Arr/h': 0, 'StartTime': '00:00', 'EndTime': '05:00'}, {'Dep/h': 3, 'Arr/h': 3, 'StartTime': '05:00', 'EndTime': '22:00'}, {'Dep/h': 1, 'Arr/h': 2, 'StartTime': '22:00', 'EndTime': '00:00'}]}\n"
     ]
    }
   ],
   "source": [
    "def parse_airports(data_lines):\n",
    "    airports_dict = {}\n",
    "    for line in data_lines:\n",
    "        parts = re.split(r'\\s+', line)\n",
    "        airport = parts[0]\n",
    "        capacities = []\n",
    "        for i in range(1, len(parts), 4):\n",
    "            capacities.append({\n",
    "                'Dep/h': int(parts[i]),\n",
    "                'Arr/h': int(parts[i+1]),\n",
    "                'StartTime': parts[i+2],\n",
    "                'EndTime': parts[i+3]\n",
    "            })\n",
    "        airports_dict[airport] = capacities\n",
    "    return airports_dict\n",
    "\n",
    "\n",
    "airports_lines = read_csv_with_comments(airports_file)\n",
    "if airports_lines:\n",
    "    airports_dict = parse_airports(airports_lines)\n",
    "    print(airports_dict)\n",
    "\n",
    "\n"
   ]
  },
  {
   "cell_type": "markdown",
   "metadata": {},
   "source": [
    "### Distance file"
   ]
  },
  {
   "cell_type": "code",
   "execution_count": 4,
   "metadata": {},
   "outputs": [
    {
     "name": "stdout",
     "output_type": "stream",
     "text": [
      "{('BKK', 'CDG'): {'Dist': 739, 'Type': 'I'}, ('BKK', 'JFK'): {'Dist': 1077, 'Type': 'I'}, ('BKK', 'LHR'): {'Dist': 749, 'Type': 'I'}, ('BKK', 'NCE'): {'Dist': 742, 'Type': 'I'}, ('BKK', 'SYD'): {'Dist': 594, 'Type': 'I'}, ('BKK', 'ORY'): {'Dist': 741, 'Type': 'I'}, ('CDG', 'BKK'): {'Dist': 739, 'Type': 'I'}, ('CDG', 'JFK'): {'Dist': 468, 'Type': 'I'}, ('CDG', 'LHR'): {'Dist': 55, 'Type': 'C'}, ('CDG', 'NCE'): {'Dist': 77, 'Type': 'D'}, ('CDG', 'SYD'): {'Dist': 1302, 'Type': 'I'}, ('CDG', 'ORY'): {'Dist': 34, 'Type': 'P'}, ('JFK', 'BKK'): {'Dist': 1077, 'Type': 'I'}, ('JFK', 'CDG'): {'Dist': 468, 'Type': 'I'}, ('JFK', 'LHR'): {'Dist': 446, 'Type': 'I'}, ('JFK', 'NCE'): {'Dist': 495, 'Type': 'I'}, ('JFK', 'SYD'): {'Dist': 1232, 'Type': 'I'}, ('JFK', 'ORY'): {'Dist': 468, 'Type': 'I'}, ('LHR', 'BKK'): {'Dist': 749, 'Type': 'I'}, ('LHR', 'CDG'): {'Dist': 55, 'Type': 'C'}, ('LHR', 'JFK'): {'Dist': 446, 'Type': 'I'}, ('LHR', 'NCE'): {'Dist': 100, 'Type': 'C'}, ('LHR', 'SYD'): {'Dist': 1308, 'Type': 'I'}, ('LHR', 'ORY'): {'Dist': 57, 'Type': 'C'}, ('NCE', 'BKK'): {'Dist': 742, 'Type': 'I'}, ('NCE', 'CDG'): {'Dist': 77, 'Type': 'D'}, ('NCE', 'JFK'): {'Dist': 495, 'Type': 'I'}, ('NCE', 'LHR'): {'Dist': 100, 'Type': 'C'}, ('NCE', 'SYD'): {'Dist': 1305, 'Type': 'I'}, ('NCE', 'ORY'): {'Dist': 74, 'Type': 'D'}, ('SYD', 'BKK'): {'Dist': 594, 'Type': 'I'}, ('SYD', 'CDG'): {'Dist': 1302, 'Type': 'I'}, ('SYD', 'JFK'): {'Dist': 1232, 'Type': 'I'}, ('SYD', 'LHR'): {'Dist': 1308, 'Type': 'I'}, ('SYD', 'NCE'): {'Dist': 1305, 'Type': 'I'}, ('SYD', 'ORY'): {'Dist': 1304, 'Type': 'I'}, ('ORY', 'BKK'): {'Dist': 741, 'Type': 'I'}, ('ORY', 'CDG'): {'Dist': 34, 'Type': 'P'}, ('ORY', 'JFK'): {'Dist': 468, 'Type': 'I'}, ('ORY', 'LHR'): {'Dist': 57, 'Type': 'C'}, ('ORY', 'NCE'): {'Dist': 74, 'Type': 'D'}, ('ORY', 'SYD'): {'Dist': 1304, 'Type': 'I'}}\n"
     ]
    }
   ],
   "source": [
    "\n",
    "def parse_dist(data_lines):\n",
    "    dist_dict = {}\n",
    "    for line in data_lines:\n",
    "        parts = re.split(r'\\s+', line)\n",
    "        origin = parts[0]\n",
    "        destination = parts[1]\n",
    "        dist = int(parts[2])\n",
    "        type_ = parts[3]\n",
    "        dist_dict[(origin, destination)] = {'Dist': dist, 'Type': type_}\n",
    "    return dist_dict\n",
    "\n",
    "\n",
    "\n",
    "dist_lines = read_csv_with_comments(dist_file)\n",
    "if dist_lines:\n",
    "    dist_dict = parse_dist(dist_lines)\n",
    "    print(dist_dict)\n"
   ]
  },
  {
   "cell_type": "markdown",
   "metadata": {},
   "source": [
    "### Flights file"
   ]
  },
  {
   "cell_type": "code",
   "execution_count": 5,
   "metadata": {},
   "outputs": [
    {
     "name": "stdout",
     "output_type": "stream",
     "text": [
      "{1: {'Orig': 'BKK', 'Dest': 'CDG', 'DepTime': '18:00', 'ArrTime': '06:15+1', 'PrevFlight': 0}, 2: {'Orig': 'NCE', 'Dest': 'CDG', 'DepTime': '08:00', 'ArrTime': '09:30', 'PrevFlight': 0}, 3: {'Orig': 'CDG', 'Dest': 'LHR', 'DepTime': '10:20', 'ArrTime': '11:20', 'PrevFlight': 0}, 4: {'Orig': 'CDG', 'Dest': 'LHR', 'DepTime': '08:30', 'ArrTime': '09:30', 'PrevFlight': 0}, 5: {'Orig': 'LHR', 'Dest': 'JFK', 'DepTime': '12:00', 'ArrTime': '19:30', 'PrevFlight': 0}, 6: {'Orig': 'NCE', 'Dest': 'LHR', 'DepTime': '09:30', 'ArrTime': '11:15', 'PrevFlight': 0}, 7: {'Orig': 'CDG', 'Dest': 'BKK', 'DepTime': '11:30', 'ArrTime': '21:45', 'PrevFlight': 0}, 8: {'Orig': 'LHR', 'Dest': 'CDG', 'DepTime': '12:30', 'ArrTime': '13:30', 'PrevFlight': 0}, 9: {'Orig': 'CDG', 'Dest': 'NCE', 'DepTime': '14:35', 'ArrTime': '16:05', 'PrevFlight': 0}, 10: {'Orig': 'LHR', 'Dest': 'NCE', 'DepTime': '13:10', 'ArrTime': '14:55', 'PrevFlight': 0}, 11: {'Orig': 'JFK', 'Dest': 'LHR', 'DepTime': '22:30', 'ArrTime': '06:00+1', 'PrevFlight': 0}, 12: {'Orig': 'LHR', 'Dest': 'CDG', 'DepTime': '07:15', 'ArrTime': '08:15', 'PrevFlight': 0}}\n"
     ]
    }
   ],
   "source": [
    "\n",
    "\n",
    "\n",
    "def parse_flights(data_lines):\n",
    "    flights_dict = {}\n",
    "    for line in data_lines:\n",
    "        parts = re.split(r'\\s+', line)\n",
    "        flight = int(parts[0])\n",
    "        flights_dict[flight] = {\n",
    "            'Orig': parts[1],\n",
    "            'Dest': parts[2],\n",
    "            'DepTime': parts[3],\n",
    "            'ArrTime': parts[4],\n",
    "            'PrevFlight': int(parts[5])\n",
    "        }\n",
    "    return flights_dict\n",
    "\n",
    "\n",
    "flights_lines = read_csv_with_comments(flights_file)\n",
    "if flights_lines:\n",
    "    flights_dict = parse_flights(flights_lines)\n",
    "    print(flights_dict)\n",
    "\n"
   ]
  },
  {
   "cell_type": "markdown",
   "metadata": {},
   "source": [
    "### Aircraft file"
   ]
  },
  {
   "cell_type": "code",
   "execution_count": 6,
   "metadata": {},
   "outputs": [
    {
     "name": "stdout",
     "output_type": "stream",
     "text": [
      "{'B767#1': {'Model': 'B767', 'Family': 'Boeing', 'Config': '10/20/160', 'Dist': 12250, 'Cost/h': 3000.0, 'TurnRound': 75, 'Transit': 50, 'Orig': 'CDG', 'Maint': 'CDG-10/01/08-06:00-10/01/08-10:00-20'}, 'B767#3': {'Model': 'B767', 'Family': 'Boeing', 'Config': '10/20/160', 'Dist': 12250, 'Cost/h': 3000.0, 'TurnRound': 75, 'Transit': 50, 'Orig': 'BKK', 'Maint': 'NULL'}, 'A320#1': {'Model': 'A320', 'Family': 'Airbus', 'Config': '0/20/160', 'Dist': 5700, 'Cost/h': 2000.0, 'TurnRound': 40, 'Transit': 40, 'Orig': 'NCE', 'Maint': 'NCE-10/01/08-17:00-11/01/08-12:00-10'}, 'A320#2': {'Model': 'A320', 'Family': 'Airbus', 'Config': '0/20/160', 'Dist': 5700, 'Cost/h': 2000.0, 'TurnRound': 40, 'Transit': 40, 'Orig': 'NCE', 'Maint': 'NULL'}, 'B777#1': {'Model': 'B777', 'Family': 'Boeing', 'Config': '20/45/310', 'Dist': 14000, 'Cost/h': 4000.0, 'TurnRound': 90, 'Transit': 60, 'Orig': 'CDG', 'Maint': 'NULL'}, 'B777#4': {'Model': 'B777', 'Family': 'Boeing', 'Config': '20/45/310', 'Dist': 14000, 'Cost/h': 4000.0, 'TurnRound': 90, 'Transit': 60, 'Orig': 'LHR', 'Maint': 'CDG-10/01/08-12:00-10/01/08-22:00-80'}}\n"
     ]
    }
   ],
   "source": [
    "\n",
    "\n",
    "def parse_aircraft(data_lines):\n",
    "    aircraft_dict = {}\n",
    "    for line in data_lines:\n",
    "        parts = re.split(r'\\s+', line)\n",
    "        aircraft = parts[0]\n",
    "        aircraft_dict[aircraft] = {\n",
    "            'Model': parts[1],\n",
    "            'Family': parts[2],\n",
    "            'Config': parts[3],\n",
    "            'Dist': int(parts[4]),\n",
    "            'Cost/h': float(parts[5]),\n",
    "            'TurnRound': int(parts[6]),\n",
    "            'Transit': int(parts[7]),\n",
    "            'Orig': parts[8],\n",
    "            'Maint': parts[9] if len(parts) > 9 else None\n",
    "        }\n",
    "    return aircraft_dict\n",
    "\n",
    "aircraft_lines = read_csv_with_comments(aircraft_file)\n",
    "if aircraft_lines:\n",
    "    aircraft_dict = parse_aircraft(aircraft_lines)\n",
    "    print(aircraft_dict)\n",
    "\n",
    "    \n"
   ]
  },
  {
   "cell_type": "markdown",
   "metadata": {},
   "source": [
    "### Rotations file"
   ]
  },
  {
   "cell_type": "code",
   "execution_count": 7,
   "metadata": {},
   "outputs": [
    {
     "name": "stdout",
     "output_type": "stream",
     "text": [
      "{1: {'DepDate': '10/01/08', 'Aircraft': 'B767#3'}, 7: {'DepDate': '10/01/08', 'Aircraft': 'B767#1'}, 2: {'DepDate': '10/01/08', 'Aircraft': 'A320#1'}, 3: {'DepDate': '10/01/08', 'Aircraft': 'A320#1'}, 8: {'DepDate': '10/01/08', 'Aircraft': 'A320#1'}, 9: {'DepDate': '10/01/08', 'Aircraft': 'A320#1'}, 4: {'DepDate': '10/01/08', 'Aircraft': 'B777#1'}, 5: {'DepDate': '10/01/08', 'Aircraft': 'B777#1'}, 11: {'DepDate': '10/01/08', 'Aircraft': 'B777#1'}, 12: {'DepDate': '10/01/08', 'Aircraft': 'B777#4'}, 6: {'DepDate': '10/01/08', 'Aircraft': 'A320#2'}, 10: {'DepDate': '10/01/08', 'Aircraft': 'A320#2'}}\n"
     ]
    }
   ],
   "source": [
    "\n",
    "def parse_rotations(data_lines):\n",
    "    rotations_dict = {}\n",
    "    for line in data_lines:\n",
    "        parts = re.split(r'\\s+', line)\n",
    "        flight = int(parts[0])\n",
    "        rotations_dict[flight] = {\n",
    "            'DepDate': parts[1],\n",
    "            'Aircraft': parts[2]\n",
    "        }\n",
    "    return rotations_dict\n",
    "\n",
    "rotations_lines = read_csv_with_comments(rotations_file)\n",
    "if rotations_lines:\n",
    "    rotations_dict = parse_rotations(rotations_lines)\n",
    "    print(rotations_dict)\n",
    "\n"
   ]
  },
  {
   "cell_type": "markdown",
   "metadata": {},
   "source": [
    "### Itineraries file"
   ]
  },
  {
   "cell_type": "code",
   "execution_count": 8,
   "metadata": {},
   "outputs": [
    {
     "name": "stdout",
     "output_type": "stream",
     "text": [
      "{1: {'Type': 'A', 'Price': 2800.0, 'Count': 5, 'Flights': ['1', '10/01/08', 'F']}, 2: {'Type': 'A', 'Price': 2200.5, 'Count': 7, 'Flights': ['1', '10/01/08', 'B']}, 3: {'Type': 'A', 'Price': 1000.2, 'Count': 75, 'Flights': ['1', '10/01/08', 'E']}, 4: {'Type': 'R', 'Price': 2200.5, 'Count': 9, 'Flights': ['1', '10/01/08', 'B']}, 5: {'Type': 'R', 'Price': 1000.2, 'Count': 60, 'Flights': ['1', '10/01/08', 'E']}, 6: {'Type': 'A', 'Price': 400.25, 'Count': 30, 'Flights': ['2', '10/01/08', 'E']}, 7: {'Type': 'R', 'Price': 400.25, 'Count': 20, 'Flights': ['2', '10/01/08', 'E']}, 8: {'Type': 'A', 'Price': 350.0, 'Count': 30, 'Flights': ['3', '10/01/08', 'E']}, 9: {'Type': 'R', 'Price': 1200.17, 'Count': 1, 'Flights': ['3', '10/01/08', 'B']}, 10: {'Type': 'R', 'Price': 350.4, 'Count': 30, 'Flights': ['3', '10/01/08', 'E']}, 11: {'Type': 'A', 'Price': 1700.0, 'Count': 3, 'Flights': ['2', '10/01/08', 'B', '3', '10/01/08', 'B']}, 12: {'Type': 'A', 'Price': 900.18, 'Count': 20, 'Flights': ['2', '10/01/08', 'E', '3', '10/01/08', 'E']}, 13: {'Type': 'R', 'Price': 1700.0, 'Count': 1, 'Flights': ['2', '10/01/08', 'B', '3', '10/01/08', 'B']}, 14: {'Type': 'R', 'Price': 900.18, 'Count': 10, 'Flights': ['2', '10/01/08', 'E', '3', '10/01/08', 'E']}, 15: {'Type': 'A', 'Price': 1100.15, 'Count': 13, 'Flights': ['4', '10/01/08', 'B']}, 16: {'Type': 'A', 'Price': 600.7, 'Count': 60, 'Flights': ['4', '10/01/08', 'E']}, 17: {'Type': 'R', 'Price': 1100.15, 'Count': 9, 'Flights': ['4', '10/01/08', 'B']}, 18: {'Type': 'R', 'Price': 600.7, 'Count': 40, 'Flights': ['4', '10/01/08', 'E']}, 19: {'Type': 'A', 'Price': 2200.75, 'Count': 5, 'Flights': ['5', '10/01/08', 'B']}, 20: {'Type': 'A', 'Price': 2900.1, 'Count': 1, 'Flights': ['5', '10/01/08', 'F']}, 21: {'Type': 'R', 'Price': 2900.1, 'Count': 1, 'Flights': ['5', '10/01/08', 'F']}, 22: {'Type': 'A', 'Price': 950.0, 'Count': 45, 'Flights': ['5', '10/01/08', 'E']}, 23: {'Type': 'R', 'Price': 950.0, 'Count': 55, 'Flights': ['5', '10/01/08', 'E']}, 24: {'Type': 'A', 'Price': 3400.61, 'Count': 4, 'Flights': ['4', '10/01/08', 'F', '5', '10/01/08', 'F']}, 25: {'Type': 'A', 'Price': 2800.8, 'Count': 8, 'Flights': ['4', '10/01/08', 'B', '5', '10/01/08', 'B']}, 26: {'Type': 'A', 'Price': 1100.0, 'Count': 80, 'Flights': ['4', '10/01/08', 'E', '5', '10/01/08', 'E']}, 27: {'Type': 'R', 'Price': 3400.61, 'Count': 4, 'Flights': ['4', '10/01/08', 'F', '5', '10/01/08', 'F']}, 28: {'Type': 'R', 'Price': 2800.8, 'Count': 4, 'Flights': ['4', '10/01/08', 'B', '5', '10/01/08', 'B']}, 29: {'Type': 'R', 'Price': 1100.0, 'Count': 45, 'Flights': ['4', '10/01/08', 'E', '5', '10/01/08', 'E']}, 30: {'Type': 'A', 'Price': 1600.09, 'Count': 3, 'Flights': ['6', '10/01/08', 'B']}, 31: {'Type': 'A', 'Price': 450.64, 'Count': 32, 'Flights': ['6', '10/01/08', 'E']}, 32: {'Type': 'R', 'Price': 1600.09, 'Count': 1, 'Flights': ['6', '10/01/08', 'B']}, 33: {'Type': 'R', 'Price': 450.64, 'Count': 25, 'Flights': ['6', '10/01/08', 'E']}, 34: {'Type': 'A', 'Price': 2500.25, 'Count': 0, 'Flights': ['7', '10/01/08', 'F']}, 35: {'Type': 'A', 'Price': 1800.0, 'Count': 3, 'Flights': ['7', '10/01/08', 'B']}, 36: {'Type': 'A', 'Price': 900.3, 'Count': 55, 'Flights': ['7', '10/01/08', 'E']}, 37: {'Type': 'R', 'Price': 2500.25, 'Count': 2, 'Flights': ['7', '10/01/08', 'F']}, 38: {'Type': 'R', 'Price': 1800.0, 'Count': 2, 'Flights': ['7', '10/01/08', 'B']}, 39: {'Type': 'R', 'Price': 900.3, 'Count': 40, 'Flights': ['7', '10/01/08', 'E']}, 40: {'Type': 'A', 'Price': 1100.05, 'Count': 4, 'Flights': ['8', '10/01/08', 'B']}, 41: {'Type': 'A', 'Price': 400.8, 'Count': 55, 'Flights': ['8', '10/01/08', 'E']}, 42: {'Type': 'R', 'Price': 1100.05, 'Count': 4, 'Flights': ['8', '10/01/08', 'B']}, 43: {'Type': 'R', 'Price': 400.8, 'Count': 30, 'Flights': ['8', '10/01/08', 'E']}, 44: {'Type': 'A', 'Price': 1200.0, 'Count': 3, 'Flights': ['9', '10/01/08', 'B']}, 45: {'Type': 'A', 'Price': 350.42, 'Count': 40, 'Flights': ['9', '10/01/08', 'E']}, 46: {'Type': 'R', 'Price': 1200.0, 'Count': 2, 'Flights': ['9', '10/01/08', 'B']}, 47: {'Type': 'R', 'Price': 350.42, 'Count': 20, 'Flights': ['9', '10/01/08', 'E']}, 48: {'Type': 'A', 'Price': 1700.76, 'Count': 6, 'Flights': ['8', '10/01/08', 'B', '9', '10/01/08', 'B']}, 49: {'Type': 'A', 'Price': 900.0, 'Count': 25, 'Flights': ['8', '10/01/08', 'E', '9', '10/01/08', 'E']}, 50: {'Type': 'R', 'Price': 900.0, 'Count': 15, 'Flights': ['8', '10/01/08', 'E', '9', '10/01/08', 'E']}, 51: {'Type': 'A', 'Price': 1600.98, 'Count': 12, 'Flights': ['10', '10/01/08', 'B']}, 52: {'Type': 'A', 'Price': 500.25, 'Count': 78, 'Flights': ['10', '10/01/08', 'E']}, 53: {'Type': 'R', 'Price': 500.25, 'Count': 65, 'Flights': ['10', '10/01/08', 'E']}, 54: {'Type': 'A', 'Price': 1400.34, 'Count': 7, 'Flights': ['11', '10/01/08', 'F']}, 55: {'Type': 'A', 'Price': 1100.87, 'Count': 13, 'Flights': ['11', '10/01/08', 'B']}, 56: {'Type': 'A', 'Price': 600.0, 'Count': 85, 'Flights': ['11', '10/01/08', 'E']}, 57: {'Type': 'R', 'Price': 1100.13, 'Count': 19, 'Flights': ['11', '10/01/08', 'B']}, 58: {'Type': 'R', 'Price': 600.0, 'Count': 148, 'Flights': ['11', '10/01/08', 'E']}, 59: {'Type': 'A', 'Price': 2000.71, 'Count': 18, 'Flights': ['12', '10/01/08', 'B']}, 60: {'Type': 'A', 'Price': 950.15, 'Count': 45, 'Flights': ['12', '10/01/08', 'E']}, 61: {'Type': 'R', 'Price': 950.15, 'Count': 95, 'Flights': ['12', '10/01/08', 'E']}, 62: {'Type': 'A', 'Price': 2200.03, 'Count': 4, 'Flights': ['12', '10/01/08', 'F']}, 63: {'Type': 'R', 'Price': 1400.69, 'Count': 8, 'Flights': ['11', '10/01/08', 'F']}, 64: {'Type': 'R', 'Price': 2200.03, 'Count': 8, 'Flights': ['12', '10/01/08', 'F']}, 65: {'Type': 'R', 'Price': 2800.75, 'Count': 4, 'Flights': ['12', '10/01/08', 'B']}, 66: {'Type': 'A', 'Price': 2500.5, 'Count': 2, 'Flights': ['4', '10/01/08', 'F']}, 67: {'Type': 'R', 'Price': 2500.5, 'Count': 2, 'Flights': ['4', '10/01/08', 'F']}, 68: {'Type': 'A', 'Price': 1600.38, 'Count': 7, 'Flights': ['6', '10/01/08', 'B', '5', '10/01/08', 'F']}, 69: {'Type': 'A', 'Price': 450.0, 'Count': 50, 'Flights': ['6', '10/01/08', 'E', '5', '10/01/08', 'E']}, 70: {'Type': 'R', 'Price': 1600.38, 'Count': 5, 'Flights': ['6', '10/01/08', 'B', '5', '10/01/08', 'B']}, 71: {'Type': 'R', 'Price': 450.0, 'Count': 25, 'Flights': ['6', '10/01/08', 'E', '5', '10/01/08', 'E']}, 72: {'Type': 'A', 'Price': 2350.91, 'Count': 4, 'Flights': ['2', '10/01/08', 'B', '7', '10/01/08', 'F']}, 73: {'Type': 'A', 'Price': 900.14, 'Count': 20, 'Flights': ['2', '10/01/08', 'E', '7', '10/01/08', 'E']}, 74: {'Type': 'A', 'Price': 1700.72, 'Count': 1, 'Flights': ['2', '10/01/08', 'B', '7', '10/01/08', 'B']}, 75: {'Type': 'R', 'Price': 900.14, 'Count': 3, 'Flights': ['2', '10/01/08', 'B', '7', '10/01/08', 'F']}, 76: {'Type': 'R', 'Price': 900.14, 'Count': 10, 'Flights': ['2', '10/01/08', 'B', '7', '10/01/08', 'B']}, 77: {'Type': 'R', 'Price': 900.14, 'Count': 10, 'Flights': ['2', '10/01/08', 'E', '7', '10/01/08', 'E']}, 78: {'Type': 'A', 'Price': 1700.3, 'Count': 5, 'Flights': ['2', '10/01/08', 'B', '9', '10/01/08', 'B']}, 79: {'Type': 'A', 'Price': 900.75, 'Count': 32, 'Flights': ['2', '10/01/08', 'E', '9', '10/01/08', 'E']}, 80: {'Type': 'A', 'Price': 1200.0, 'Count': 7, 'Flights': ['12', '10/01/08', 'B', '3', '10/01/08', 'B']}, 81: {'Type': 'A', 'Price': 350.41, 'Count': 60, 'Flights': ['12', '10/01/08', 'E', '3', '10/01/08', 'E']}, 82: {'Type': 'A', 'Price': 3500.0, 'Count': 2, 'Flights': ['3', '10/01/08', 'B', '5', '10/01/08', 'F']}, 83: {'Type': 'A', 'Price': 2800.6, 'Count': 3, 'Flights': ['3', '10/01/08', 'B', '5', '10/01/08', 'B']}, 84: {'Type': 'R', 'Price': 1500.24, 'Count': 10, 'Flights': ['3', '10/01/08', 'E', '5', '10/01/08', 'E']}}\n"
     ]
    }
   ],
   "source": [
    "\n",
    "def parse_itineraries(data_lines):\n",
    "    itineraries_dict = {}\n",
    "    for line in data_lines:\n",
    "        parts = re.split(r'\\s+', line)\n",
    "        ident = int(parts[0])\n",
    "        itineraries_dict[ident] = {\n",
    "            'Type': parts[1],\n",
    "            'Price': float(parts[2]),\n",
    "            'Count': int(parts[3]),\n",
    "            'Flights': parts[4:]\n",
    "        }\n",
    "    return itineraries_dict\n",
    "\n",
    "itineraries_lines = read_csv_with_comments(itineraries_file)\n",
    "if itineraries_lines:\n",
    "    itineraries_dict = parse_itineraries(itineraries_lines)\n",
    "    print(itineraries_dict)\n",
    "\n"
   ]
  },
  {
   "cell_type": "markdown",
   "metadata": {},
   "source": [
    "### Positions file"
   ]
  },
  {
   "cell_type": "code",
   "execution_count": 9,
   "metadata": {},
   "outputs": [
    {
     "name": "stdout",
     "output_type": "stream",
     "text": [
      "{'CDG': [{'Model': 'B777', 'Config': '20/45/310', 'Count': 1}], 'LHR': [{'Model': 'B777', 'Config': '20/45/310', 'Count': 1}], 'NCE': [{'Model': 'A320', 'Config': '0/20/160', 'Count': 2}], 'BKK': [{'Model': 'B767', 'Config': '10/20/160', 'Count': 1}]}\n"
     ]
    }
   ],
   "source": [
    "\n",
    "def parse_positions(data_lines):\n",
    "    positions_dict = {}\n",
    "    for line in data_lines:\n",
    "        parts = re.split(r'\\s+', line)\n",
    "        airport = parts[0]\n",
    "        model = parts[1]\n",
    "        config = parts[2]\n",
    "        count = int(parts[3])\n",
    "        if airport not in positions_dict:\n",
    "            positions_dict[airport] = []\n",
    "        positions_dict[airport].append({'Model': model, 'Config': config, 'Count': count})\n",
    "    return positions_dict\n",
    "\n",
    "\n",
    "positions_lines = read_csv_with_comments(positions_file)\n",
    "if positions_lines:\n",
    "    positions_dict = parse_positions(positions_lines)\n",
    "    print(positions_dict)\n",
    "\n",
    "\n",
    "    \n"
   ]
  },
  {
   "cell_type": "markdown",
   "metadata": {},
   "source": [
    "### Flights disruptions file"
   ]
  },
  {
   "cell_type": "code",
   "execution_count": 10,
   "metadata": {},
   "outputs": [
    {
     "name": "stdout",
     "output_type": "stream",
     "text": [
      "{3: {'DepDate': '10/01/08', 'Delay': 60}}\n"
     ]
    }
   ],
   "source": [
    "\n",
    "def parse_alt_flights(data_lines):\n",
    "    alt_flights_dict = {}\n",
    "    for line in data_lines:\n",
    "        parts = re.split(r'\\s+', line)\n",
    "        flight = int(parts[0])\n",
    "        alt_flights_dict[flight] = {\n",
    "            'DepDate': parts[1],\n",
    "            'Delay': int(parts[2])\n",
    "        }\n",
    "    return alt_flights_dict\n",
    "\n",
    "alt_flights_lines = read_csv_with_comments(alt_flights_file)\n",
    "if alt_flights_lines:\n",
    "    alt_flights_dict = parse_alt_flights(alt_flights_lines)\n",
    "    print(alt_flights_dict)\n",
    "\n",
    "\n"
   ]
  },
  {
   "cell_type": "markdown",
   "metadata": {},
   "source": [
    "### Aircraft disruptions file"
   ]
  },
  {
   "cell_type": "code",
   "execution_count": 11,
   "metadata": {},
   "outputs": [],
   "source": [
    "\n",
    "\n",
    "def parse_alt_aircraft(data_lines):\n",
    "    alt_aircraft_dict = {}\n",
    "    for line in data_lines:\n",
    "        parts = re.split(r'\\s+', line)\n",
    "        aircraft = parts[0]\n",
    "        alt_aircraft_dict[aircraft] = {\n",
    "            'StartDate': parts[1],\n",
    "            'StartTime': parts[2],\n",
    "            'EndDate': parts[3],\n",
    "            'EndTime': parts[4]\n",
    "        }\n",
    "    return alt_aircraft_dict\n",
    "\n",
    "alt_aircraft_lines = read_csv_with_comments(alt_aircraft_file)\n",
    "if alt_aircraft_lines:\n",
    "    alt_aircraft_dict = parse_alt_aircraft(alt_aircraft_lines)\n",
    "    print(alt_aircraft_dict)\n",
    "\n"
   ]
  },
  {
   "cell_type": "markdown",
   "metadata": {},
   "source": [
    "### Airport disruptions file"
   ]
  },
  {
   "cell_type": "code",
   "execution_count": 12,
   "metadata": {},
   "outputs": [],
   "source": [
    "\n",
    "\n",
    "def parse_alt_airports(data_lines):\n",
    "    alt_airports_dict = {}\n",
    "    for line in data_lines:\n",
    "        parts = re.split(r'\\s+', line)\n",
    "        airport = parts[0]\n",
    "        alt_airports_dict[airport] = {\n",
    "            'StartDate': parts[1],\n",
    "            'StartTime': parts[2],\n",
    "            'EndDate': parts[3],\n",
    "            'EndTime': parts[4],\n",
    "            'Dep/h': int(parts[5]),\n",
    "            'Arr/h': int(parts[6])\n",
    "        }\n",
    "    return alt_airports_dict\n",
    "\n",
    "\n",
    "alt_airports_lines = read_csv_with_comments(alt_airports_file)\n",
    "if alt_airports_lines:\n",
    "    alt_airports_dict = parse_alt_airports(alt_airports_lines)\n",
    "    print(alt_airports_dict)\n"
   ]
  }
 ],
 "metadata": {
  "kernelspec": {
   "display_name": ".venv",
   "language": "python",
   "name": "python3"
  },
  "language_info": {
   "codemirror_mode": {
    "name": "ipython",
    "version": 3
   },
   "file_extension": ".py",
   "mimetype": "text/x-python",
   "name": "python",
   "nbconvert_exporter": "python",
   "pygments_lexer": "ipython3",
   "version": "3.12.4"
  }
 },
 "nbformat": 4,
 "nbformat_minor": 2
}
